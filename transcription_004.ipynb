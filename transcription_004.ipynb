{
 "cells": [
  {
   "cell_type": "code",
   "execution_count": 1,
   "metadata": {},
   "outputs": [
    {
     "name": "stderr",
     "output_type": "stream",
     "text": [
      "Note: Environment variable`HF_TOKEN` is set and is the current active token independently from the token you've just configured.\n"
     ]
    }
   ],
   "source": [
    "import os\n",
    "from huggingface_hub import login\n",
    "\n",
    "# To save your Huggingface token, run your terminal:\n",
    "# echo 'export HF_TOKEN=\"hf_*******************************\"' >> $HOME/.bashrc\n",
    "\n",
    "# Otherwise, the login function will prompt a login interface\n",
    "login(token=os.environ.get(\"HF_TOKEN\"))\n",
    "\n",
    "# FROM https://github.com/yinruiqing/pyannote-whisper\n",
    "from pyannote.audio import Pipeline\n",
    "import torch\n",
    "import utils # CREDIT: https://github.com/yinruiqing/pyannote-whisper\n",
    "import whisper\n",
    "from IPython.display import clear_output"
   ]
  },
  {
   "cell_type": "code",
   "execution_count": null,
   "metadata": {},
   "outputs": [
    {
     "name": "stdout",
     "output_type": "stream",
     "text": [
      "0.00 2.48 SPEAKER_00  So, welcome to this interview today.\n",
      "2.48 8.92 SPEAKER_00  I'm sitting here with Natalie and we're going to have just a little interview with two questions.\n",
      "8.92 14.52 SPEAKER_00  My name is Lars and I'm handing over to my interviewee to introduce herself.\n",
      "14.52 16.60 SPEAKER_01  Okay, thank you.\n",
      "16.60 17.60 SPEAKER_01  My name is Natalie.\n",
      "17.60 21.04 SPEAKER_01  I'm an employee at GAG and we are testing this new device.\n",
      "21.04 24.56 SPEAKER_00  Okay, thank you.\n",
      "24.56 29.36 SPEAKER_00  My first question to you is when is your next field trip?\n",
      "29.36 31.64 SPEAKER_01  That is a good question, Lars.\n",
      "31.64 32.64 SPEAKER_01  I'm not sure.\n",
      "32.64 34.64 SPEAKER_01  We are hoping for May.\n",
      "34.64 37.56 SPEAKER_00  Okay, you're hoping for May.\n",
      "37.56 39.02 SPEAKER_00  When was your last field trip?\n",
      "39.02 40.52 SPEAKER_01  I last went in July.\n",
      "40.52 43.32 SPEAKER_00  Okay, thank you very much for the interview.\n",
      "CPU times: user 1min 7s, sys: 6.55 s, total: 1min 13s\n",
      "Wall time: 25.2 s\n"
     ]
    }
   ],
   "source": [
    "%%time\n",
    "\n",
    "device = torch.device(\"mps\" if torch.backends.mps.is_available() else \"cuda\" if torch.cuda.is_available() else \"cpu\")\n",
    "\n",
    "# Initialize Pyannote pipeline\n",
    "pipeline = Pipeline.from_pretrained(\"pyannote/speaker-diarization-3.1\").to(device)\n",
    "\n",
    "# Load audio file\n",
    "audio_file = \"241118_1543.wav\"\n",
    "\n",
    "model = whisper.load_model(\"medium.en\").to(\"cpu\")\n",
    "asr_result = model.transcribe(audio_file)\n",
    "diarization_result = pipeline(audio_file)\n",
    "final_result = utils.diarize_text(asr_result, diarization_result)\n",
    "\n",
    "clear_output()\n",
    "for seg, spk, sent in final_result:\n",
    "    line = f'{seg.start:.2f} {seg.end:.2f} {spk} {sent}'\n",
    "    print(line)"
   ]
  }
 ],
 "metadata": {
  "kernelspec": {
   "display_name": "venv_transcribe",
   "language": "python",
   "name": "python3"
  },
  "language_info": {
   "codemirror_mode": {
    "name": "ipython",
    "version": 3
   },
   "file_extension": ".py",
   "mimetype": "text/x-python",
   "name": "python",
   "nbconvert_exporter": "python",
   "pygments_lexer": "ipython3",
   "version": "3.13.2"
  }
 },
 "nbformat": 4,
 "nbformat_minor": 4
}
